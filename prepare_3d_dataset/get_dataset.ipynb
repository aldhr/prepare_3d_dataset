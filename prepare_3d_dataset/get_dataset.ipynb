{
 "cells": [
  {
   "cell_type": "code",
   "execution_count": null,
   "metadata": {},
   "outputs": [],
   "source": [
    "## PDBbind dataset\n",
    "import pandas as pd\n",
    "import numpy as np\n",
    "\n",
    "## lead and set up dataset\n",
    "pdbbind = pd.read_csv('data/pdbbind.csv') ## load dataset\n",
    "cols = ['pdb_id', 'lig_id', 'mix_affinity_data', 'Y'] ## rename columns\n",
    "pdbbind = pdbbind.loc[:, ['PDB code', 'Ligand Name', 'Affinity Data', 'pKd pKi pIC50']] ## extract particular columns\n",
    "pdbbind.columns = cols ## re-label columns\n",
    "pdbbind = pdbbind.dropna() ##drop NA values\n",
    "pdbbind = pdbbind[~pdbbind['lig_id'].str.contains('-mer', case=False)] # remove data without lig_id\n",
    "\n",
    "## get dataset by kd type of data \n",
    "IC50_pdbbind = pdbbind[pdbbind['mix_affinity_data'].str.contains('IC50=', case=False)]\n",
    "IC50_pdbbind[['metric', 'value', 'units']] = IC50_pdbbind['mix_affinity_data'].str.extract(r'(\\w+)=([\\d.]+)(\\w+)') ## split column\n",
    "IC50_pdbbind.drop('mix_affinity_data', axis=1, inplace=True) ## remove column\n",
    "IC50_pdbbind.dropna() ## drop NA columns \n",
    "IC50_pdbbind['lig_id'] = IC50_pdbbind['lig_id'].str.replace('[\\W_]+', '') ## remove non-alphanumeric characters\n",
    "IC50_pdbbind = IC50_pdbbind.drop_duplicates(subset=['lig_id']) ## remove duplicates on ligands\n",
    "\n",
    "## function to convert units to uM\n",
    "def convert_units(row):\n",
    "    value = row['value']\n",
    "    unit = row['units']\n",
    "\n",
    "    # Convert the value to uM\n",
    "    if unit == 'nM':\n",
    "        value *= 1e-3\n",
    "    elif unit == 'mM':\n",
    "        value *= 1e3\n",
    "    elif unit == 'pM':\n",
    "        value *= 1e-6\n",
    "\n",
    "    # Update the value and unit\n",
    "    row['value'] = value\n",
    "    row['units'] = 'uM'\n",
    "\n",
    "    return row\n",
    "\n",
    "## convert units to uM\n",
    "IC50_pdbbind['value'] = pd.to_numeric(IC50_pdbbind['value'], errors='coerce') ##convert to numeric\n",
    "IC50_pdbbind = IC50_pdbbind.apply(convert_units, axis=1)\n",
    "\n",
    "## convert to logaritmic version of it [pIC50]\n",
    "IC50_pdbbind['Y'] = IC50_pdbbind['value'].apply(lambda x: -1.0 * np.log10(x)) ## convert to pIC50 [Y]\n",
    "IC50_pdbbind = IC50_pdbbind.dropna() ## drop NA columns\n",
    "IC50_pdbbind.reset_index(drop=True, inplace=True) ## reset index\n",
    "\n",
    "## arbitrary threshold based on the mean\n",
    "mean_value = IC50_pdbbind['Y'].mean()\n",
    "IC50_pdbbind['Activity'] = IC50_pdbbind['Y'].apply(lambda x: 1 if x > mean_value else 0)\n",
    "# IC50_pdbbind.to_csv('data/IC50_pdbbind_.csv', index=False) ## save dataset \n",
    "\n",
    "## dataset has been also manually curated to fix some issues like:\n",
    "## getting smiles of few of them since lig_id was not in right format\n",
    "# for example '77' instead of '077'\n",
    "## manually corrected dataset is saved as IC50_pdbbind.csv ##"
   ]
  },
  {
   "cell_type": "code",
   "execution_count": 1,
   "metadata": {},
   "outputs": [
    {
     "name": "stdout",
     "output_type": "stream",
     "text": [
      "Number of active (1): 3311\n",
      "Number of inactive (0): 2775\n"
     ]
    }
   ],
   "source": [
    "## check for balance\n",
    "import pandas as pd \n",
    "df = pd.read_csv('data/IC50_pdbbind.csv')\n",
    "active_count = (df['Activity'] == 1).sum()\n",
    "inactive_count = (df['Activity'] == 0).sum()\n",
    "\n",
    "print(f'Number of active (1): {active_count}')\n",
    "print(f'Number of inactive (0): {inactive_count}')"
   ]
  },
  {
   "cell_type": "code",
   "execution_count": 2,
   "metadata": {},
   "outputs": [
    {
     "name": "stdout",
     "output_type": "stream",
     "text": [
      "count    6086.000000\n",
      "mean        0.696339\n",
      "std         1.608013\n",
      "min        -5.550228\n",
      "25%        -0.302655\n",
      "50%         0.886057\n",
      "75%         1.886057\n",
      "max         5.522879\n",
      "Name: Y, dtype: float64\n"
     ]
    },
    {
     "data": {
      "image/png": "[encoded data removed]",
      "text/plain": [
       "<Figure size 640x480 with 1 Axes>"
      ]
     },
     "metadata": {},
     "output_type": "display_data"
    }
   ],
   "source": [
    "## check for distribution\n",
    "import matplotlib.pyplot as plt\n",
    "\n",
    "print(df['Y'].describe())\n",
    "\n",
    "# Create a histogram to visualize the distribution\n",
    "df['Y'].hist(bins=10)\n",
    "plt.xlabel('Y')\n",
    "plt.ylabel('Frequency')\n",
    "plt.title('Distribution of pIC50 values')\n",
    "\n",
    "# Calculate the mean of your data\n",
    "mean_value = df['Y'].mean()\n",
    "\n",
    "# Add a vertical line at the mean\n",
    "plt.axvline(mean_value, color='r', linestyle='dashed', linewidth=2, label='Mean')\n",
    "\n",
    "# Show the plot\n",
    "plt.legend()\n",
    "plt.show()"
   ]
  },
  {
   "cell_type": "code",
   "execution_count": null,
   "metadata": {},
   "outputs": [],
   "source": [
    "import os\n",
    "import pandas as pd\n",
    "import yaml\n"
   ]
  }
 ],
 "metadata": {
  "kernelspec": {
   "display_name": "IFP",
   "language": "python",
   "name": "python3"
  },
  "language_info": {
   "codemirror_mode": {
    "name": "ipython",
    "version": 3
   },
   "file_extension": ".py",
   "mimetype": "text/x-python",
   "name": "python",
   "nbconvert_exporter": "python",
   "pygments_lexer": "ipython3",
   "version": "3.10.12"
  },
  "orig_nbformat": 4
 },
 "nbformat": 4,
 "nbformat_minor": 2
}
